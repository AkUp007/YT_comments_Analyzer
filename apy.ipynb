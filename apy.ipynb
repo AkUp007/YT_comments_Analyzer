from selenium import webdriver
from selenium.webdriver.common.by import By
from selenium.webdriver.chrome.service import Service
from selenium.webdriver.common.keys import Keys
import time

# Path to Chrome WebDriver (Update it if needed)
chrome_driver_path = "chromedriver.exe"

# Initialize WebDriver
service = Service(chrome_driver_path)
options = webdriver.ChromeOptions()
options.add_argument("--headless")  # Run in headless mode (no browser UI)
options.add_argument("--log-level=3")  # Suppress logging

driver = webdriver.Chrome(service=service, options=options)

# Open YouTube Video URL
video_url = "https://www.youtube.com/watch?v=YOUR_VIDEO_ID"
driver.get(video_url)

# Pause to load content
time.sleep(5)

# Scroll down to load comments
scroll_pause_time = 3
last_height = driver.execute_script("return document.documentElement.scrollHeight")

for _ in range(5):  # Scroll multiple times
    driver.execute_script("window.scrollTo(0, document.documentElement.scrollHeight);")
    time.sleep(scroll_pause_time)
    new_height = driver.execute_script("return document.documentElement.scrollHeight")
    if new_height == last_height:
        break
    last_height = new_height

# Extract comments
comments = []
comment_elements = driver.find_elements(By.CSS_SELECTOR, "#content #content-text")  # Updated selector

for comment in comment_elements:
    comments.append(comment.text)

# Print or Save Comments
for idx, comment in enumerate(comments):
    print(f"{idx+1}. {comment}")

driver.quit()
